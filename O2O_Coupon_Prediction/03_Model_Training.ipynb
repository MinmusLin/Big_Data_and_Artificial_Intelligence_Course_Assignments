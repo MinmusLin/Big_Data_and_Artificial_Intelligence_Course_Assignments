{
 "cells": [
  {
   "cell_type": "markdown",
   "metadata": {
    "toc": true
   },
   "source": [
    "# 3 模型训练\n",
    "\n",
    "## 3.1 准备工作\n",
    "\n",
    "### 3.1.1 引入代码包"
   ]
  },
  {
   "cell_type": "code",
   "execution_count": 1,
   "metadata": {
    "collapsed": true
   },
   "outputs": [],
   "source": [
    "from sklearn import metrics\n",
    "import numpy as np\n",
    "import pandas as pd\n",
    "import matplotlib.pyplot as plt\n",
    "from sklearn.model_selection import learning_curve\n",
    "from sklearn.neighbors import KNeighborsClassifier\n",
    "from sklearn.ensemble import RandomForestClassifier\n",
    "from sklearn import tree\n",
    "from sklearn.ensemble import GradientBoostingClassifier\n",
    "from sklearn.svm import SVC\n",
    "from sklearn.linear_model import LogisticRegression\n",
    "from xgboost import XGBClassifier\n",
    "from lightgbm import LGBMClassifier\n",
    "from sklearn.naive_bayes import MultinomialNB\n",
    "from sklearn.model_selection import train_test_split  # 切分数据\n",
    "from sklearn.model_selection import learning_curve\n",
    "from sklearn import preprocessing\n",
    "import warnings\n",
    "warnings.filterwarnings('ignore')\n",
    "\n",
    "%matplotlib inline"
   ]
  },
  {
   "cell_type": "markdown",
   "metadata": {},
   "source": [
    "### 3.1.2 全局参数"
   ]
  },
  {
   "cell_type": "code",
   "execution_count": 2,
   "metadata": {
    "collapsed": true
   },
   "outputs": [],
   "source": [
    "id_col_names = ['user_id', 'coupon_id', 'date_received']\n",
    "target_col_name = 'label'\n",
    "id_target_cols = ['user_id', 'coupon_id', 'date_received', 'label']\n",
    "myeval = 'roc_auc'\n",
    "cvscore = 0\n",
    "\n",
    "datapath = 'data/'\n",
    "featurepath = 'feature/'\n",
    "resultpath = 'result/'\n",
    "tmppath = 'tmp/'\n",
    "scorepath = 'score/'"
   ]
  },
  {
   "cell_type": "markdown",
   "metadata": {},
   "source": [
    "### 3.1.3 特征读取"
   ]
  },
  {
   "cell_type": "code",
   "execution_count": 3,
   "metadata": {
    "collapsed": true
   },
   "outputs": [],
   "source": [
    "# 返回 ID 列\n",
    "def get_id_df(df):\n",
    "    return df[id_col_names]\n",
    "\n",
    "\n",
    "#返回 Target 列\n",
    "def get_target_df(df):\n",
    "    return df[target_col_name]\n",
    "\n",
    "\n",
    "# 返回特征列\n",
    "def get_predictors_df(df):\n",
    "    predictors = [f for f in df.columns if f not in id_target_cols]\n",
    "    return df[predictors]\n",
    "\n",
    "\n",
    "# 按特征名读取训练集\n",
    "def read_featurefile_train(featurename):\n",
    "    df = pd.read_csv(featurepath + 'train_' + featurename + '.csv', sep=',', encoding='utf-8')\n",
    "    df.fillna(0, inplace=True)\n",
    "    return df\n",
    "\n",
    "\n",
    "# 按特征名读取测试集\n",
    "def read_featurefile_test(featurename):\n",
    "    df = pd.read_csv(featurepath + 'test_' + featurename + '.csv', sep=',', encoding='utf-8')\n",
    "    df.fillna(0, inplace=True)\n",
    "    return df\n",
    "\n",
    "\n",
    "# 按特征名读取数据\n",
    "def read_data(featurename):\n",
    "    traindf = read_featurefile_train(featurename)\n",
    "    testdf = read_featurefile_test(featurename)\n",
    "    return traindf, testdf"
   ]
  },
  {
   "cell_type": "markdown",
   "metadata": {},
   "source": [
    "### 3.1.4 模型训练代码"
   ]
  },
  {
   "cell_type": "code",
   "execution_count": 4,
   "metadata": {
    "collapsed": true
   },
   "outputs": [],
   "source": [
    "# 将特征归一化\n",
    "def standize_df(train_data, test_data):\n",
    "    features_columns = [f for f in test_data.columns if f not in id_target_cols]\n",
    "    min_max_scaler = preprocessing.MinMaxScaler()\n",
    "    min_max_scaler = min_max_scaler.fit(train_data[features_columns])\n",
    "\n",
    "    train_data_scaler = min_max_scaler.transform(train_data[features_columns])\n",
    "    test_data_scaler = min_max_scaler.transform(test_data[features_columns])\n",
    "\n",
    "    train_data_scaler = pd.DataFrame(train_data_scaler)\n",
    "    train_data_scaler.columns = features_columns\n",
    "\n",
    "    test_data_scaler = pd.DataFrame(test_data_scaler)\n",
    "    test_data_scaler.columns = features_columns\n",
    "\n",
    "    train_data_scaler['label'] = train_data['label']\n",
    "    train_data_scaler[id_col_names] = train_data[id_col_names]\n",
    "    test_data_scaler[id_col_names] = test_data[id_col_names]\n",
    "    return train_data_scaler, test_data_scaler"
   ]
  },
  {
   "cell_type": "code",
   "execution_count": 5,
   "metadata": {
    "collapsed": true
   },
   "outputs": [],
   "source": [
    "def get_sklearn_model(model_name):\n",
    "    # 朴素贝叶斯\n",
    "    if model_name == 'NB':\n",
    "        return MultinomialNB(alpha=0.01)\n",
    "\n",
    "    # 逻辑回归\n",
    "    elif model_name == 'LR':\n",
    "        return LogisticRegression(penalty='l2')\n",
    "\n",
    "    # KNN\n",
    "    elif model_name == 'KNN':\n",
    "        return KNeighborsClassifier()\n",
    "\n",
    "    # 随机森林\n",
    "    elif model_name == 'RF':\n",
    "        return RandomForestClassifier()\n",
    "\n",
    "    # 决策树\n",
    "    elif model_name == 'DT':\n",
    "        return tree.DecisionTreeClassifier()\n",
    "\n",
    "    # 向量机\n",
    "    elif model_name == 'SVC':\n",
    "        return SVC(kernel='rbf')\n",
    "\n",
    "    # GBDT\n",
    "    elif model_name == 'GBDT':\n",
    "        return GradientBoostingClassifier()\n",
    "\n",
    "    # XGBoost\n",
    "    elif model_name == 'XGB':\n",
    "        return XGBClassifier()\n",
    "\n",
    "    # LightGBM\n",
    "    elif model_name == 'LGB':\n",
    "        return LGBMClassifier()\n",
    "    else:\n",
    "        print('Wrong model name')\n",
    "\n",
    "\n",
    "# 画学习曲线\n",
    "def plot_learning_curve(estimator, title, X, y, ylim=None, cv=None, n_jobs=1, train_sizes=[0.01, 0.02, 0.05, 0.1, 0.2, 0.3]):\n",
    "    plt.figure()\n",
    "    plt.title(title)\n",
    "    if ylim is not None:\n",
    "        plt.ylim(*ylim)\n",
    "    plt.xlabel('Training examples')\n",
    "    plt.ylabel('Score')\n",
    "    train_sizes, train_scores, test_scores = learning_curve(estimator, X, y, cv=cv, scoring=myeval, n_jobs=n_jobs, train_sizes=train_sizes)\n",
    "    train_scores_mean = np.mean(train_scores, axis=1)\n",
    "    train_scores_std = np.std(train_scores, axis=1)\n",
    "    test_scores_mean = np.mean(test_scores, axis=1)\n",
    "    test_scores_std = np.std(test_scores, axis=1)\n",
    "    plt.grid()\n",
    "    plt.fill_between(train_sizes, train_scores_mean - train_scores_std, train_scores_mean + train_scores_std, alpha=0.1, color='r')\n",
    "    plt.fill_between(train_sizes, test_scores_mean - test_scores_std, test_scores_mean + test_scores_std, alpha=0.1, color='g')\n",
    "    plt.plot(train_sizes, train_scores_mean, 'o-', color='r', label='Training score')\n",
    "    plt.plot(train_sizes, test_scores_mean, 'o-', color='g', label='Cross-validation score')\n",
    "    plt.legend(loc='best')\n",
    "    return plt\n",
    "\n",
    "\n",
    "# 画算法的学习曲线，为加快画图速度，最多选 20% 数据\n",
    "def plot_curve_single(traindf, classifier, cvnum, train_sizes=[0.01, 0.02, 0.05, 0.1, 0.2, 0.3]):\n",
    "    X = get_predictors_df(traindf)\n",
    "    y = get_target_df(traindf)\n",
    "    estimator = get_sklearn_model(classifier)\n",
    "    title = 'learning curve of ' + classifier + ', cv:' + str(cvnum)\n",
    "    plot_learning_curve(estimator, title, X, y, ylim=(0, 1.01), cv=cvnum, train_sizes=train_sizes)\n",
    "\n",
    "\n",
    "# 性能评价函数\n",
    "#     目标是预测投放的优惠券是否核销\n",
    "#     针对此任务及一些相关背景知识，使用优惠券核销预测的平均 AUC（ROC 曲线下面积）作为评价标准\n",
    "#     即对每个优惠券 coupon_id 单独计算核销预测的 AUC 值，再对所有优惠券的 AUC 值求平均作为最终的评价标准\n",
    "def myauc(test):\n",
    "    testgroup = test.groupby(['coupon_id'])\n",
    "    aucs = []\n",
    "    for i in testgroup:\n",
    "        coupon_df = i[1]\n",
    "        if len(coupon_df['label'].unique()) < 2:\n",
    "            continue\n",
    "        auc = metrics.roc_auc_score(coupon_df['label'], coupon_df['pred'])\n",
    "        aucs.append(auc)\n",
    "    return np.average(aucs)\n",
    "\n",
    "\n",
    "# 按照日期分割\n",
    "def test_model(traindf, classifier):\n",
    "    train = traindf[traindf.date_received < 20160515].copy()\n",
    "    test = traindf[traindf.date_received >= 20160515].copy()\n",
    "\n",
    "    train_data = get_predictors_df(train).copy()\n",
    "    train_target = get_target_df(train).copy()\n",
    "    test_data = get_predictors_df(test).copy()\n",
    "    test_target = get_target_df(test).copy()\n",
    "\n",
    "    clf = get_sklearn_model(classifier)\n",
    "    clf.fit(train_data, train_target)\n",
    "    result = clf.predict_proba(test_data)[:, 1]\n",
    "    test['pred'] = result\n",
    "    score = metrics.roc_auc_score(test_target, result)\n",
    "    print(classifier + ' 总体 AUC:', score)\n",
    "    score_coupon = myauc(test)\n",
    "    print(classifier + ' Coupon AUC:', score_coupon)\n",
    "\n",
    "\n",
    "def test_model_split(traindf, classifier):\n",
    "    target = get_target_df(traindf).copy()\n",
    "\n",
    "    train_all, test_all, train_target, test_target = train_test_split(traindf, target, test_size=0.2, random_state=0)\n",
    "\n",
    "    train_data = get_predictors_df(train_all).copy()\n",
    "    test_data = get_predictors_df(test_all).copy()\n",
    "\n",
    "    clf = get_sklearn_model(classifier)\n",
    "    clf.fit(train_data, train_target)\n",
    "    result = clf.predict_proba(test_data)[:, 1]\n",
    "\n",
    "    test = test_all.copy()\n",
    "    test['pred'] = result\n",
    "\n",
    "    score = metrics.roc_auc_score(test_target, result)\n",
    "    print(classifier + ' 总体 AUC:', score)\n",
    "    score_coupon = myauc(test)\n",
    "    print(classifier + ' Coupon AUC:', score_coupon)"
   ]
  },
  {
   "cell_type": "markdown",
   "metadata": {},
   "source": [
    "## 3.2 简单特征 f1 训练\n",
    "\n",
    "### 3.2.1 数据读取"
   ]
  },
  {
   "cell_type": "code",
   "execution_count": 6,
   "metadata": {
    "collapsed": true
   },
   "outputs": [],
   "source": [
    "# 所有的特征都是上一节生成的\n",
    "train_f1, test_f1 = read_data('f1')\n",
    "\n",
    "# 因为要使用 KNN 等进行测试，所以需要归一化\n",
    "train_f1, test_f1 = standize_df(train_f1, test_f1)"
   ]
  },
  {
   "cell_type": "code",
   "execution_count": 7,
   "metadata": {},
   "outputs": [
    {
     "data": {
      "text/plain": [
       "(304509, 9)"
      ]
     },
     "execution_count": 7,
     "metadata": {},
     "output_type": "execute_result"
    }
   ],
   "source": [
    "train_f1.shape"
   ]
  },
  {
   "cell_type": "code",
   "execution_count": 8,
   "metadata": {},
   "outputs": [
    {
     "data": {
      "text/plain": [
       "np.int64(27878)"
      ]
     },
     "execution_count": 8,
     "metadata": {},
     "output_type": "execute_result"
    }
   ],
   "source": [
    "train_f1['label'].sum()"
   ]
  },
  {
   "cell_type": "code",
   "execution_count": 9,
   "metadata": {
    "scrolled": true
   },
   "outputs": [
    {
     "data": {
      "text/html": [
       "<div>\n",
       "<style scoped>\n",
       "    .dataframe tbody tr th:only-of-type {\n",
       "        vertical-align: middle;\n",
       "    }\n",
       "\n",
       "    .dataframe tbody tr th {\n",
       "        vertical-align: top;\n",
       "    }\n",
       "\n",
       "    .dataframe thead th {\n",
       "        text-align: right;\n",
       "    }\n",
       "</style>\n",
       "<table border=\"1\" class=\"dataframe\">\n",
       "  <thead>\n",
       "    <tr style=\"text-align: right;\">\n",
       "      <th></th>\n",
       "      <th>discount_rate</th>\n",
       "      <th>distance</th>\n",
       "      <th>if_fd</th>\n",
       "      <th>full_value</th>\n",
       "      <th>reduction_value</th>\n",
       "      <th>label</th>\n",
       "      <th>user_id</th>\n",
       "      <th>coupon_id</th>\n",
       "      <th>date_received</th>\n",
       "    </tr>\n",
       "  </thead>\n",
       "  <tbody>\n",
       "    <tr>\n",
       "      <th>0</th>\n",
       "      <td>0.812785</td>\n",
       "      <td>0.1</td>\n",
       "      <td>1.0</td>\n",
       "      <td>0.500000</td>\n",
       "      <td>0.20</td>\n",
       "      <td>0</td>\n",
       "      <td>1439408</td>\n",
       "      <td>11002</td>\n",
       "      <td>20160528</td>\n",
       "    </tr>\n",
       "    <tr>\n",
       "      <th>1</th>\n",
       "      <td>0.939117</td>\n",
       "      <td>0.0</td>\n",
       "      <td>1.0</td>\n",
       "      <td>0.066667</td>\n",
       "      <td>0.01</td>\n",
       "      <td>0</td>\n",
       "      <td>1439408</td>\n",
       "      <td>8591</td>\n",
       "      <td>20160613</td>\n",
       "    </tr>\n",
       "    <tr>\n",
       "      <th>2</th>\n",
       "      <td>0.939117</td>\n",
       "      <td>0.0</td>\n",
       "      <td>1.0</td>\n",
       "      <td>0.066667</td>\n",
       "      <td>0.01</td>\n",
       "      <td>0</td>\n",
       "      <td>1439408</td>\n",
       "      <td>8591</td>\n",
       "      <td>20160516</td>\n",
       "    </tr>\n",
       "    <tr>\n",
       "      <th>3</th>\n",
       "      <td>0.761035</td>\n",
       "      <td>0.0</td>\n",
       "      <td>1.0</td>\n",
       "      <td>0.100000</td>\n",
       "      <td>0.05</td>\n",
       "      <td>0</td>\n",
       "      <td>2029232</td>\n",
       "      <td>1532</td>\n",
       "      <td>20160530</td>\n",
       "    </tr>\n",
       "    <tr>\n",
       "      <th>4</th>\n",
       "      <td>0.939117</td>\n",
       "      <td>0.0</td>\n",
       "      <td>1.0</td>\n",
       "      <td>0.066667</td>\n",
       "      <td>0.01</td>\n",
       "      <td>0</td>\n",
       "      <td>2029232</td>\n",
       "      <td>12737</td>\n",
       "      <td>20160519</td>\n",
       "    </tr>\n",
       "  </tbody>\n",
       "</table>\n",
       "</div>"
      ],
      "text/plain": [
       "   discount_rate  distance  if_fd  full_value  reduction_value  label  \\\n",
       "0       0.812785       0.1    1.0    0.500000             0.20      0   \n",
       "1       0.939117       0.0    1.0    0.066667             0.01      0   \n",
       "2       0.939117       0.0    1.0    0.066667             0.01      0   \n",
       "3       0.761035       0.0    1.0    0.100000             0.05      0   \n",
       "4       0.939117       0.0    1.0    0.066667             0.01      0   \n",
       "\n",
       "   user_id  coupon_id  date_received  \n",
       "0  1439408      11002       20160528  \n",
       "1  1439408       8591       20160613  \n",
       "2  1439408       8591       20160516  \n",
       "3  2029232       1532       20160530  \n",
       "4  2029232      12737       20160519  "
      ]
     },
     "execution_count": 9,
     "metadata": {},
     "output_type": "execute_result"
    }
   ],
   "source": [
    "train_f1.head()"
   ]
  },
  {
   "cell_type": "markdown",
   "metadata": {},
   "source": [
    "### 3.2.2 逻辑回归"
   ]
  },
  {
   "cell_type": "code",
   "execution_count": 10,
   "metadata": {},
   "outputs": [
    {
     "name": "stdout",
     "output_type": "stream",
     "text": [
      "LR 总体 AUC: 0.6722908622853694\n",
      "LR Coupon AUC: 0.5381247617281083\n"
     ]
    }
   ],
   "source": [
    "test_model(train_f1, 'LR')"
   ]
  },
  {
   "cell_type": "code",
   "execution_count": 11,
   "metadata": {},
   "outputs": [
    {
     "name": "stdout",
     "output_type": "stream",
     "text": [
      "LR Coupon AUC\n"
     ]
    },
    {
     "data": {
      "image/png": "[encoded data removed]",
      "text/plain": [
       "<Figure size 640x480 with 1 Axes>"
      ]
     },
     "metadata": {},
     "output_type": "display_data"
    }
   ],
   "source": [
    "print('LR Coupon AUC')\n",
    "plot_curve_single(train_f1, 'LR', 5, [0.01, 0.02, 0.05, 0.1, 0.2, 0.3])"
   ]
  },
  {
   "cell_type": "markdown",
   "metadata": {},
   "source": [
    "### 3.2.3 朴素贝叶斯"
   ]
  },
  {
   "cell_type": "code",
   "execution_count": 12,
   "metadata": {},
   "outputs": [
    {
     "name": "stdout",
     "output_type": "stream",
     "text": [
      "NB 总体 AUC: 0.6670944091690476\n",
      "NB Coupon AUC: 0.5381247642711647\n"
     ]
    }
   ],
   "source": [
    "test_model(train_f1, 'NB')"
   ]
  },
  {
   "cell_type": "code",
   "execution_count": 13,
   "metadata": {
    "scrolled": true
   },
   "outputs": [
    {
     "data": {
      "image/png": "[encoded data removed]",
      "text/plain": [
       "<Figure size 640x480 with 1 Axes>"
      ]
     },
     "metadata": {},
     "output_type": "display_data"
    }
   ],
   "source": [
    "plot_curve_single(train_f1, 'NB', 5, [0.01, 0.02, 0.05, 0.1, 0.2, 0.3])"
   ]
  },
  {
   "cell_type": "markdown",
   "metadata": {},
   "source": [
    "### 3.2.4 决策树"
   ]
  },
  {
   "cell_type": "code",
   "execution_count": 14,
   "metadata": {},
   "outputs": [
    {
     "name": "stdout",
     "output_type": "stream",
     "text": [
      "DT 总体 AUC: 0.6481735302350922\n",
      "DT Coupon AUC: 0.5303272197800327\n"
     ]
    }
   ],
   "source": [
    "test_model(train_f1, 'DT')"
   ]
  },
  {
   "cell_type": "code",
   "execution_count": 15,
   "metadata": {
    "scrolled": true
   },
   "outputs": [
    {
     "data": {
      "image/png": "[encoded data removed]",
      "text/plain": [
       "<Figure size 640x480 with 1 Axes>"
      ]
     },
     "metadata": {},
     "output_type": "display_data"
    }
   ],
   "source": [
    "plot_curve_single(train_f1, 'DT', 5, [0.01, 0.02, 0.05, 0.1, 0.2, 0.3])"
   ]
  },
  {
   "cell_type": "markdown",
   "metadata": {},
   "source": [
    "### 3.2.5 随机森林"
   ]
  },
  {
   "cell_type": "code",
   "execution_count": 16,
   "metadata": {},
   "outputs": [
    {
     "name": "stdout",
     "output_type": "stream",
     "text": [
      "RF 总体 AUC: 0.6483701442618546\n",
      "RF Coupon AUC: 0.530319707317786\n"
     ]
    }
   ],
   "source": [
    "test_model(train_f1, 'RF')"
   ]
  },
  {
   "cell_type": "code",
   "execution_count": 17,
   "metadata": {
    "scrolled": true
   },
   "outputs": [
    {
     "data": {
      "image/png": "[encoded data removed]",
      "text/plain": [
       "<Figure size 640x480 with 1 Axes>"
      ]
     },
     "metadata": {},
     "output_type": "display_data"
    }
   ],
   "source": [
    "plot_curve_single(train_f1, 'RF', 5, [0.01, 0.02, 0.05, 0.1, 0.2, 0.3])"
   ]
  },
  {
   "cell_type": "markdown",
   "metadata": {},
   "source": [
    "### 3.2.6 LightGBM"
   ]
  },
  {
   "cell_type": "code",
   "execution_count": 18,
   "metadata": {},
   "outputs": [
    {
     "name": "stdout",
     "output_type": "stream",
     "text": [
      "[LightGBM] [Info] Number of positive: 4748, number of negative: 42635\n",
      "[LightGBM] [Info] Auto-choosing row-wise multi-threading, the overhead of testing was 0.000221 seconds.\n",
      "You can set `force_row_wise=true` to remove the overhead.\n",
      "And if memory is not enough, you can set `force_col_wise=true`.\n",
      "[LightGBM] [Info] Total Bins 47\n",
      "[LightGBM] [Info] Number of data points in the train set: 47383, number of used features: 5\n",
      "[LightGBM] [Info] [binary:BoostFromScore]: pavg=0.100205 -> initscore=-2.194952\n",
      "[LightGBM] [Info] Start training from score -2.194952\n",
      "LGB 总体 AUC: 0.6534077718076291\n",
      "LGB Coupon AUC: 0.5327884933599097\n"
     ]
    }
   ],
   "source": [
    "test_model(train_f1, 'LGB')"
   ]
  },
  {
   "cell_type": "code",
   "execution_count": 19,
   "metadata": {
    "scrolled": true
   },
   "outputs": [
    {
     "name": "stdout",
     "output_type": "stream",
     "text": [
      "[LightGBM] [Info] Number of positive: 47, number of negative: 2389\n",
      "[LightGBM] [Info] Auto-choosing row-wise multi-threading, the overhead of testing was 0.000018 seconds.\n",
      "You can set `force_row_wise=true` to remove the overhead.\n",
      "And if memory is not enough, you can set `force_col_wise=true`.\n",
      "[LightGBM] [Info] Total Bins 45\n",
      "[LightGBM] [Info] Number of data points in the train set: 2436, number of used features: 5\n",
      "[LightGBM] [Info] [binary:BoostFromScore]: pavg=0.019294 -> initscore=-3.928483\n",
      "[LightGBM] [Info] Start training from score -3.928483\n",
      "[LightGBM] [Warning] No further splits with positive gain, best gain: -inf\n",
      "[LightGBM] [Warning] No further splits with positive gain, best gain: -inf\n",
      "[LightGBM] [Warning] No further splits with positive gain, best gain: -inf\n",
      "[LightGBM] [Warning] No further splits with positive gain, best gain: -inf\n",
      "[LightGBM] [Warning] No further splits with positive gain, best gain: -inf\n",
      "[LightGBM] [Warning] No further splits with positive gain, best gain: -inf\n",
      "[LightGBM] [Warning] No further splits with positive gain, best gain: -inf\n",
      "[LightGBM] [Warning] No further splits with positive gain, best gain: -inf\n",
      "[LightGBM] [Warning] No further splits with positive gain, best gain: -inf\n",
      "[LightGBM] [Warning] No further splits with positive gain, best gain: -inf\n",
      "[LightGBM] [Warning] No further splits with positive gain, best gain: -inf\n",
      "[LightGBM] [Warning] No further splits with positive gain, best gain: -inf\n",
      "[LightGBM] [Warning] No further splits with positive gain, best gain: -inf\n",
      "[LightGBM] [Warning] No further splits with positive gain, best gain: -inf\n",
      "[LightGBM] [Warning] No further splits with positive gain, best gain: -inf\n",
      "[LightGBM] [Warning] No further splits with positive gain, best gain: -inf\n",
      "[LightGBM] [Warning] No further splits with positive gain, best gain: -inf\n",
      "[LightGBM] [Warning] No further splits with positive gain, best gain: -inf\n",
      "[LightGBM] [Warning] No further splits with positive gain, best gain: -inf\n",
      "[LightGBM] [Warning] No further splits with positive gain, best gain: -inf\n",
      "[LightGBM] [Warning] No further splits with positive gain, best gain: -inf\n",
      "[LightGBM] [Warning] No further splits with positive gain, best gain: -inf\n",
      "[LightGBM] [Warning] No further splits with positive gain, best gain: -inf\n",
      "[LightGBM] [Warning] No further splits with positive gain, best gain: -inf\n",
      "[LightGBM] [Warning] No further splits with positive gain, best gain: -inf\n",
      "[LightGBM] [Warning] No further splits with positive gain, best gain: -inf\n",
      "[LightGBM] [Warning] No further splits with positive gain, best gain: -inf\n",
      "[LightGBM] [Warning] No further splits with positive gain, best gain: -inf\n",
      "[LightGBM] [Warning] No further splits with positive gain, best gain: -inf\n",
      "[LightGBM] [Warning] No further splits with positive gain, best gain: -inf\n",
      "[LightGBM] [Warning] No further splits with positive gain, best gain: -inf\n",
      "[LightGBM] [Warning] No further splits with positive gain, best gain: -inf\n",
      "[LightGBM] [Warning] No further splits with positive gain, best gain: -inf\n",
      "[LightGBM] [Warning] No further splits with positive gain, best gain: -inf\n",
      "[LightGBM] [Warning] No further splits with positive gain, best gain: -inf\n",
      "[LightGBM] [Warning] No further splits with positive gain, best gain: -inf\n",
      "[LightGBM] [Warning] No further splits with positive gain, best gain: -inf\n",
      "[LightGBM] [Warning] No further splits with positive gain, best gain: -inf\n",
      "[LightGBM] [Warning] No further splits with positive gain, best gain: -inf\n",
      "[LightGBM] [Warning] No further splits with positive gain, best gain: -inf\n",
      "[LightGBM] [Warning] No further splits with positive gain, best gain: -inf\n",
      "[LightGBM] [Warning] No further splits with positive gain, best gain: -inf\n",
      "[LightGBM] [Warning] No further splits with positive gain, best gain: -inf\n",
      "[LightGBM] [Warning] No further splits with positive gain, best gain: -inf\n",
      "[LightGBM] [Warning] No further splits with positive gain, best gain: -inf\n",
      "[LightGBM] [Warning] No further splits with positive gain, best gain: -inf\n",
      "[LightGBM] [Warning] No further splits with positive gain, best gain: -inf\n",
      "[LightGBM] [Warning] No further splits with positive gain, best gain: -inf\n",
      "[LightGBM] [Warning] No further splits with positive gain, best gain: -inf\n",
      "[LightGBM] [Warning] No further splits with positive gain, best gain: -inf\n",
      "[LightGBM] [Info] Number of positive: 279, number of negative: 4593\n",
      "[LightGBM] [Info] Auto-choosing row-wise multi-threading, the overhead of testing was 0.000028 seconds.\n",
      "You can set `force_row_wise=true` to remove the overhead.\n",
      "And if memory is not enough, you can set `force_col_wise=true`.\n",
      "[LightGBM] [Info] Total Bins 46\n",
      "[LightGBM] [Info] Number of data points in the train set: 4872, number of used features: 5\n",
      "[LightGBM] [Info] [binary:BoostFromScore]: pavg=0.057266 -> initscore=-2.801077\n",
      "[LightGBM] [Info] Start training from score -2.801077\n",
      "[LightGBM] [Info] Number of positive: 1051, number of negative: 11129\n",
      "[LightGBM] [Info] Auto-choosing row-wise multi-threading, the overhead of testing was 0.000091 seconds.\n",
      "You can set `force_row_wise=true` to remove the overhead.\n",
      "And if memory is not enough, you can set `force_col_wise=true`.\n",
      "[LightGBM] [Info] Total Bins 46\n",
      "[LightGBM] [Info] Number of data points in the train set: 12180, number of used features: 5\n",
      "[LightGBM] [Info] [binary:BoostFromScore]: pavg=0.086289 -> initscore=-2.359812\n",
      "[LightGBM] [Info] Start training from score -2.359812\n",
      "[LightGBM] [Info] Number of positive: 2280, number of negative: 22080\n",
      "[LightGBM] [Info] Auto-choosing row-wise multi-threading, the overhead of testing was 0.000113 seconds.\n",
      "You can set `force_row_wise=true` to remove the overhead.\n",
      "And if memory is not enough, you can set `force_col_wise=true`.\n",
      "[LightGBM] [Info] Total Bins 46\n",
      "[LightGBM] [Info] Number of data points in the train set: 24360, number of used features: 5\n",
      "[LightGBM] [Info] [binary:BoostFromScore]: pavg=0.093596 -> initscore=-2.270497\n",
      "[LightGBM] [Info] Start training from score -2.270497\n",
      "[LightGBM] [Info] Number of positive: 4456, number of negative: 44265\n",
      "[LightGBM] [Info] Auto-choosing row-wise multi-threading, the overhead of testing was 0.000217 seconds.\n",
      "You can set `force_row_wise=true` to remove the overhead.\n",
      "And if memory is not enough, you can set `force_col_wise=true`.\n",
      "[LightGBM] [Info] Total Bins 47\n",
      "[LightGBM] [Info] Number of data points in the train set: 48721, number of used features: 5\n",
      "[LightGBM] [Info] [binary:BoostFromScore]: pavg=0.091460 -> initscore=-2.295943\n",
      "[LightGBM] [Info] Start training from score -2.295943\n",
      "[LightGBM] [Info] Number of positive: 6709, number of negative: 66373\n",
      "[LightGBM] [Info] Auto-choosing row-wise multi-threading, the overhead of testing was 0.000266 seconds.\n",
      "You can set `force_row_wise=true` to remove the overhead.\n",
      "And if memory is not enough, you can set `force_col_wise=true`.\n",
      "[LightGBM] [Info] Total Bins 47\n",
      "[LightGBM] [Info] Number of data points in the train set: 73082, number of used features: 5\n",
      "[LightGBM] [Info] [binary:BoostFromScore]: pavg=0.091801 -> initscore=-2.291840\n",
      "[LightGBM] [Info] Start training from score -2.291840\n",
      "[LightGBM] [Info] Number of positive: 188, number of negative: 2248\n",
      "[LightGBM] [Info] Auto-choosing row-wise multi-threading, the overhead of testing was 0.000024 seconds.\n",
      "You can set `force_row_wise=true` to remove the overhead.\n",
      "And if memory is not enough, you can set `force_col_wise=true`.\n",
      "[LightGBM] [Info] Total Bins 45\n",
      "[LightGBM] [Info] Number of data points in the train set: 2436, number of used features: 5\n",
      "[LightGBM] [Info] [binary:BoostFromScore]: pavg=0.077176 -> initscore=-2.481354\n",
      "[LightGBM] [Info] Start training from score -2.481354\n",
      "[LightGBM] [Info] Number of positive: 400, number of negative: 4472\n",
      "[LightGBM] [Info] Auto-choosing row-wise multi-threading, the overhead of testing was 0.000027 seconds.\n",
      "You can set `force_row_wise=true` to remove the overhead.\n",
      "And if memory is not enough, you can set `force_col_wise=true`.\n",
      "[LightGBM] [Info] Total Bins 46\n",
      "[LightGBM] [Info] Number of data points in the train set: 4872, number of used features: 5\n",
      "[LightGBM] [Info] [binary:BoostFromScore]: pavg=0.082102 -> initscore=-2.414126\n",
      "[LightGBM] [Info] Start training from score -2.414126\n",
      "[LightGBM] [Info] Number of positive: 1059, number of negative: 11121\n",
      "[LightGBM] [Info] Auto-choosing row-wise multi-threading, the overhead of testing was 0.000090 seconds.\n",
      "You can set `force_row_wise=true` to remove the overhead.\n",
      "And if memory is not enough, you can set `force_col_wise=true`.\n",
      "[LightGBM] [Info] Total Bins 46\n",
      "[LightGBM] [Info] Number of data points in the train set: 12180, number of used features: 5\n",
      "[LightGBM] [Info] [binary:BoostFromScore]: pavg=0.086946 -> initscore=-2.351510\n",
      "[LightGBM] [Info] Start training from score -2.351510\n",
      "[LightGBM] [Info] Number of positive: 2153, number of negative: 22207\n",
      "[LightGBM] [Info] Auto-choosing row-wise multi-threading, the overhead of testing was 0.000132 seconds.\n",
      "You can set `force_row_wise=true` to remove the overhead.\n",
      "And if memory is not enough, you can set `force_col_wise=true`.\n",
      "[LightGBM] [Info] Total Bins 46\n",
      "[LightGBM] [Info] Number of data points in the train set: 24360, number of used features: 5\n",
      "[LightGBM] [Info] [binary:BoostFromScore]: pavg=0.088383 -> initscore=-2.333545\n",
      "[LightGBM] [Info] Start training from score -2.333545\n",
      "[LightGBM] [Info] Number of positive: 4338, number of negative: 44383\n",
      "[LightGBM] [Info] Auto-choosing row-wise multi-threading, the overhead of testing was 0.000194 seconds.\n",
      "You can set `force_row_wise=true` to remove the overhead.\n",
      "And if memory is not enough, you can set `force_col_wise=true`.\n",
      "[LightGBM] [Info] Total Bins 47\n",
      "[LightGBM] [Info] Number of data points in the train set: 48721, number of used features: 5\n",
      "[LightGBM] [Info] [binary:BoostFromScore]: pavg=0.089038 -> initscore=-2.325443\n",
      "[LightGBM] [Info] Start training from score -2.325443\n",
      "[LightGBM] [Info] Number of positive: 6708, number of negative: 66374\n",
      "[LightGBM] [Info] Auto-choosing row-wise multi-threading, the overhead of testing was 0.000274 seconds.\n",
      "You can set `force_row_wise=true` to remove the overhead.\n",
      "And if memory is not enough, you can set `force_col_wise=true`.\n",
      "[LightGBM] [Info] Total Bins 48\n",
      "[LightGBM] [Info] Number of data points in the train set: 73082, number of used features: 5\n",
      "[LightGBM] [Info] [binary:BoostFromScore]: pavg=0.091787 -> initscore=-2.292005\n",
      "[LightGBM] [Info] Start training from score -2.292005\n",
      "[LightGBM] [Info] Number of positive: 188, number of negative: 2248\n",
      "[LightGBM] [Info] Auto-choosing row-wise multi-threading, the overhead of testing was 0.000027 seconds.\n",
      "You can set `force_row_wise=true` to remove the overhead.\n",
      "And if memory is not enough, you can set `force_col_wise=true`.\n",
      "[LightGBM] [Info] Total Bins 45\n",
      "[LightGBM] [Info] Number of data points in the train set: 2436, number of used features: 5\n",
      "[LightGBM] [Info] [binary:BoostFromScore]: pavg=0.077176 -> initscore=-2.481354\n",
      "[LightGBM] [Info] Start training from score -2.481354\n",
      "[LightGBM] [Info] Number of positive: 400, number of negative: 4472\n",
      "[LightGBM] [Info] Auto-choosing row-wise multi-threading, the overhead of testing was 0.000029 seconds.\n",
      "You can set `force_row_wise=true` to remove the overhead.\n",
      "And if memory is not enough, you can set `force_col_wise=true`.\n",
      "[LightGBM] [Info] Total Bins 46\n",
      "[LightGBM] [Info] Number of data points in the train set: 4872, number of used features: 5\n",
      "[LightGBM] [Info] [binary:BoostFromScore]: pavg=0.082102 -> initscore=-2.414126\n",
      "[LightGBM] [Info] Start training from score -2.414126\n",
      "[LightGBM] [Info] Number of positive: 1059, number of negative: 11121\n",
      "[LightGBM] [Info] Auto-choosing row-wise multi-threading, the overhead of testing was 0.000069 seconds.\n",
      "You can set `force_row_wise=true` to remove the overhead.\n",
      "And if memory is not enough, you can set `force_col_wise=true`.\n",
      "[LightGBM] [Info] Total Bins 46\n",
      "[LightGBM] [Info] Number of data points in the train set: 12180, number of used features: 5\n",
      "[LightGBM] [Info] [binary:BoostFromScore]: pavg=0.086946 -> initscore=-2.351510\n",
      "[LightGBM] [Info] Start training from score -2.351510\n",
      "[LightGBM] [Info] Number of positive: 2153, number of negative: 22207\n",
      "[LightGBM] [Info] Auto-choosing row-wise multi-threading, the overhead of testing was 0.000136 seconds.\n",
      "You can set `force_row_wise=true` to remove the overhead.\n",
      "And if memory is not enough, you can set `force_col_wise=true`.\n",
      "[LightGBM] [Info] Total Bins 46\n",
      "[LightGBM] [Info] Number of data points in the train set: 24360, number of used features: 5\n",
      "[LightGBM] [Info] [binary:BoostFromScore]: pavg=0.088383 -> initscore=-2.333545\n",
      "[LightGBM] [Info] Start training from score -2.333545\n",
      "[LightGBM] [Info] Number of positive: 4338, number of negative: 44383\n",
      "[LightGBM] [Info] Auto-choosing row-wise multi-threading, the overhead of testing was 0.000267 seconds.\n",
      "You can set `force_row_wise=true` to remove the overhead.\n",
      "And if memory is not enough, you can set `force_col_wise=true`.\n",
      "[LightGBM] [Info] Total Bins 47\n",
      "[LightGBM] [Info] Number of data points in the train set: 48721, number of used features: 5\n",
      "[LightGBM] [Info] [binary:BoostFromScore]: pavg=0.089038 -> initscore=-2.325443\n",
      "[LightGBM] [Info] Start training from score -2.325443\n",
      "[LightGBM] [Info] Number of positive: 6626, number of negative: 66456\n",
      "[LightGBM] [Info] Auto-choosing row-wise multi-threading, the overhead of testing was 0.000246 seconds.\n",
      "You can set `force_row_wise=true` to remove the overhead.\n",
      "And if memory is not enough, you can set `force_col_wise=true`.\n",
      "[LightGBM] [Info] Total Bins 48\n",
      "[LightGBM] [Info] Number of data points in the train set: 73082, number of used features: 5\n",
      "[LightGBM] [Info] [binary:BoostFromScore]: pavg=0.090665 -> initscore=-2.305539\n",
      "[LightGBM] [Info] Start training from score -2.305539\n",
      "[LightGBM] [Info] Number of positive: 188, number of negative: 2248\n",
      "[LightGBM] [Info] Auto-choosing row-wise multi-threading, the overhead of testing was 0.000018 seconds.\n",
      "You can set `force_row_wise=true` to remove the overhead.\n",
      "And if memory is not enough, you can set `force_col_wise=true`.\n",
      "[LightGBM] [Info] Total Bins 45\n",
      "[LightGBM] [Info] Number of data points in the train set: 2436, number of used features: 5\n",
      "[LightGBM] [Info] [binary:BoostFromScore]: pavg=0.077176 -> initscore=-2.481354\n",
      "[LightGBM] [Info] Start training from score -2.481354\n",
      "[LightGBM] [Info] Number of positive: 400, number of negative: 4472\n",
      "[LightGBM] [Info] Auto-choosing row-wise multi-threading, the overhead of testing was 0.000034 seconds.\n",
      "You can set `force_row_wise=true` to remove the overhead.\n",
      "And if memory is not enough, you can set `force_col_wise=true`.\n",
      "[LightGBM] [Info] Total Bins 46\n",
      "[LightGBM] [Info] Number of data points in the train set: 4872, number of used features: 5\n",
      "[LightGBM] [Info] [binary:BoostFromScore]: pavg=0.082102 -> initscore=-2.414126\n",
      "[LightGBM] [Info] Start training from score -2.414126\n",
      "[LightGBM] [Info] Number of positive: 1059, number of negative: 11121\n",
      "[LightGBM] [Info] Auto-choosing row-wise multi-threading, the overhead of testing was 0.000073 seconds.\n",
      "You can set `force_row_wise=true` to remove the overhead.\n",
      "And if memory is not enough, you can set `force_col_wise=true`.\n",
      "[LightGBM] [Info] Total Bins 46\n",
      "[LightGBM] [Info] Number of data points in the train set: 12180, number of used features: 5\n",
      "[LightGBM] [Info] [binary:BoostFromScore]: pavg=0.086946 -> initscore=-2.351510\n",
      "[LightGBM] [Info] Start training from score -2.351510\n",
      "[LightGBM] [Info] Number of positive: 2153, number of negative: 22207\n",
      "[LightGBM] [Info] Auto-choosing row-wise multi-threading, the overhead of testing was 0.000118 seconds.\n",
      "You can set `force_row_wise=true` to remove the overhead.\n",
      "And if memory is not enough, you can set `force_col_wise=true`.\n",
      "[LightGBM] [Info] Total Bins 46\n",
      "[LightGBM] [Info] Number of data points in the train set: 24360, number of used features: 5\n",
      "[LightGBM] [Info] [binary:BoostFromScore]: pavg=0.088383 -> initscore=-2.333545\n",
      "[LightGBM] [Info] Start training from score -2.333545\n",
      "[LightGBM] [Info] Number of positive: 4338, number of negative: 44383\n",
      "[LightGBM] [Info] Auto-choosing row-wise multi-threading, the overhead of testing was 0.000222 seconds.\n",
      "You can set `force_row_wise=true` to remove the overhead.\n",
      "And if memory is not enough, you can set `force_col_wise=true`.\n",
      "[LightGBM] [Info] Total Bins 47\n",
      "[LightGBM] [Info] Number of data points in the train set: 48721, number of used features: 5\n",
      "[LightGBM] [Info] [binary:BoostFromScore]: pavg=0.089038 -> initscore=-2.325443\n",
      "[LightGBM] [Info] Start training from score -2.325443\n",
      "[LightGBM] [Info] Number of positive: 6626, number of negative: 66456\n",
      "[LightGBM] [Info] Auto-choosing row-wise multi-threading, the overhead of testing was 0.000253 seconds.\n",
      "You can set `force_row_wise=true` to remove the overhead.\n",
      "And if memory is not enough, you can set `force_col_wise=true`.\n",
      "[LightGBM] [Info] Total Bins 48\n",
      "[LightGBM] [Info] Number of data points in the train set: 73082, number of used features: 5\n",
      "[LightGBM] [Info] [binary:BoostFromScore]: pavg=0.090665 -> initscore=-2.305539\n",
      "[LightGBM] [Info] Start training from score -2.305539\n",
      "[LightGBM] [Info] Number of positive: 188, number of negative: 2248\n",
      "[LightGBM] [Info] Auto-choosing row-wise multi-threading, the overhead of testing was 0.000018 seconds.\n",
      "You can set `force_row_wise=true` to remove the overhead.\n",
      "And if memory is not enough, you can set `force_col_wise=true`.\n",
      "[LightGBM] [Info] Total Bins 45\n",
      "[LightGBM] [Info] Number of data points in the train set: 2436, number of used features: 5\n",
      "[LightGBM] [Info] [binary:BoostFromScore]: pavg=0.077176 -> initscore=-2.481354\n",
      "[LightGBM] [Info] Start training from score -2.481354\n",
      "[LightGBM] [Info] Number of positive: 400, number of negative: 4472\n",
      "[LightGBM] [Info] Auto-choosing row-wise multi-threading, the overhead of testing was 0.000033 seconds.\n",
      "You can set `force_row_wise=true` to remove the overhead.\n",
      "And if memory is not enough, you can set `force_col_wise=true`.\n",
      "[LightGBM] [Info] Total Bins 46\n",
      "[LightGBM] [Info] Number of data points in the train set: 4872, number of used features: 5\n",
      "[LightGBM] [Info] [binary:BoostFromScore]: pavg=0.082102 -> initscore=-2.414126\n",
      "[LightGBM] [Info] Start training from score -2.414126\n",
      "[LightGBM] [Info] Number of positive: 1059, number of negative: 11121\n",
      "[LightGBM] [Info] Auto-choosing row-wise multi-threading, the overhead of testing was 0.000086 seconds.\n",
      "You can set `force_row_wise=true` to remove the overhead.\n",
      "And if memory is not enough, you can set `force_col_wise=true`.\n",
      "[LightGBM] [Info] Total Bins 46\n",
      "[LightGBM] [Info] Number of data points in the train set: 12180, number of used features: 5\n",
      "[LightGBM] [Info] [binary:BoostFromScore]: pavg=0.086946 -> initscore=-2.351510\n",
      "[LightGBM] [Info] Start training from score -2.351510\n",
      "[LightGBM] [Info] Number of positive: 2153, number of negative: 22207\n",
      "[LightGBM] [Info] Auto-choosing row-wise multi-threading, the overhead of testing was 0.000168 seconds.\n",
      "You can set `force_row_wise=true` to remove the overhead.\n",
      "And if memory is not enough, you can set `force_col_wise=true`.\n",
      "[LightGBM] [Info] Total Bins 46\n",
      "[LightGBM] [Info] Number of data points in the train set: 24360, number of used features: 5\n",
      "[LightGBM] [Info] [binary:BoostFromScore]: pavg=0.088383 -> initscore=-2.333545\n",
      "[LightGBM] [Info] Start training from score -2.333545\n",
      "[LightGBM] [Info] Number of positive: 4338, number of negative: 44383\n",
      "[LightGBM] [Info] Auto-choosing row-wise multi-threading, the overhead of testing was 0.000228 seconds.\n",
      "You can set `force_row_wise=true` to remove the overhead.\n",
      "And if memory is not enough, you can set `force_col_wise=true`.\n",
      "[LightGBM] [Info] Total Bins 47\n",
      "[LightGBM] [Info] Number of data points in the train set: 48721, number of used features: 5\n",
      "[LightGBM] [Info] [binary:BoostFromScore]: pavg=0.089038 -> initscore=-2.325443\n",
      "[LightGBM] [Info] Start training from score -2.325443\n",
      "[LightGBM] [Info] Number of positive: 6626, number of negative: 66456\n",
      "[LightGBM] [Info] Auto-choosing row-wise multi-threading, the overhead of testing was 0.000355 seconds.\n",
      "You can set `force_row_wise=true` to remove the overhead.\n",
      "And if memory is not enough, you can set `force_col_wise=true`.\n",
      "[LightGBM] [Info] Total Bins 48\n",
      "[LightGBM] [Info] Number of data points in the train set: 73082, number of used features: 5\n",
      "[LightGBM] [Info] [binary:BoostFromScore]: pavg=0.090665 -> initscore=-2.305539\n",
      "[LightGBM] [Info] Start training from score -2.305539\n"
     ]
    },
    {
     "data": {
      "image/png": "[encoded data removed]",
      "text/plain": [
       "<Figure size 640x480 with 1 Axes>"
      ]
     },
     "metadata": {},
     "output_type": "display_data"
    }
   ],
   "source": [
    "plot_curve_single(train_f1, 'LGB', 5, [0.01, 0.02, 0.05, 0.1, 0.2, 0.3])"
   ]
  },
  {
   "cell_type": "markdown",
   "metadata": {},
   "source": [
    "### 3.2.7 XGBoost"
   ]
  },
  {
   "cell_type": "code",
   "execution_count": 20,
   "metadata": {},
   "outputs": [
    {
     "name": "stdout",
     "output_type": "stream",
     "text": [
      "XGB 总体 AUC: 0.653536917078787\n",
      "XGB Coupon AUC: 0.5312927198383608\n"
     ]
    }
   ],
   "source": [
    "test_model(train_f1, 'XGB')"
   ]
  },
  {
   "cell_type": "code",
   "execution_count": 21,
   "metadata": {},
   "outputs": [
    {
     "data": {
      "image/png": "[encoded data removed]",
      "text/plain": [
       "<Figure size 640x480 with 1 Axes>"
      ]
     },
     "metadata": {},
     "output_type": "display_data"
    }
   ],
   "source": [
    "plot_curve_single(train_f1, 'XGB', 5, [0.01, 0.02, 0.05, 0.1, 0.2, 0.3])"
   ]
  },
  {
   "cell_type": "markdown",
   "metadata": {},
   "source": [
    "## 3.3 用不同的特征训练并对比分析\n",
    "\n",
    "### 3.3.1 读取数据"
   ]
  },
  {
   "cell_type": "code",
   "execution_count": 22,
   "metadata": {
    "collapsed": true
   },
   "outputs": [],
   "source": [
    "# 所有的特征都是上一节生成的\n",
    "train_f2, test_f2 = read_data('sf2')\n",
    "\n",
    "# 因为要使用 KNN 等进行测试，所以需要归一化\n",
    "train_f2, test_f2 = standize_df(train_f2, test_f2)\n",
    "\n",
    "# 所有的特征都是上一节生成的\n",
    "train_f3, test_f3 = read_data('sf3')\n",
    "\n",
    "# 因为要使用 KNN 等进行测试，所以需要归一化\n",
    "train_f3, test_f3 = standize_df(train_f3, test_f3)"
   ]
  },
  {
   "cell_type": "code",
   "execution_count": 23,
   "metadata": {},
   "outputs": [
    {
     "data": {
      "text/html": [
       "<div>\n",
       "<style scoped>\n",
       "    .dataframe tbody tr th:only-of-type {\n",
       "        vertical-align: middle;\n",
       "    }\n",
       "\n",
       "    .dataframe tbody tr th {\n",
       "        vertical-align: top;\n",
       "    }\n",
       "\n",
       "    .dataframe thead th {\n",
       "        text-align: right;\n",
       "    }\n",
       "</style>\n",
       "<table border=\"1\" class=\"dataframe\">\n",
       "  <thead>\n",
       "    <tr style=\"text-align: right;\">\n",
       "      <th></th>\n",
       "      <th>discount_rate</th>\n",
       "      <th>distance</th>\n",
       "      <th>if_fd</th>\n",
       "      <th>full_value</th>\n",
       "      <th>reduction_value</th>\n",
       "      <th>total_sales</th>\n",
       "      <th>sales_use_coupon</th>\n",
       "      <th>total_coupon</th>\n",
       "      <th>merchant_distance_min</th>\n",
       "      <th>merchant_distance_max</th>\n",
       "      <th>...</th>\n",
       "      <th>this_month_user_receive_same_coupon_lastone</th>\n",
       "      <th>this_month_user_receive_same_coupon_firstone</th>\n",
       "      <th>this_day_receive_all_coupon_count</th>\n",
       "      <th>this_day_user_receive_same_coupon_count</th>\n",
       "      <th>day_gap_before</th>\n",
       "      <th>day_gap_after</th>\n",
       "      <th>label</th>\n",
       "      <th>user_id</th>\n",
       "      <th>coupon_id</th>\n",
       "      <th>date_received</th>\n",
       "    </tr>\n",
       "  </thead>\n",
       "  <tbody>\n",
       "    <tr>\n",
       "      <th>0</th>\n",
       "      <td>0.863014</td>\n",
       "      <td>0.0</td>\n",
       "      <td>1.0</td>\n",
       "      <td>0.666667</td>\n",
       "      <td>0.20</td>\n",
       "      <td>0.722209</td>\n",
       "      <td>0.898094</td>\n",
       "      <td>1.000000</td>\n",
       "      <td>0.0</td>\n",
       "      <td>1.0</td>\n",
       "      <td>...</td>\n",
       "      <td>0.0</td>\n",
       "      <td>0.0</td>\n",
       "      <td>0.0</td>\n",
       "      <td>0.0</td>\n",
       "      <td>0.0</td>\n",
       "      <td>0.0</td>\n",
       "      <td>0</td>\n",
       "      <td>1832624</td>\n",
       "      <td>7610</td>\n",
       "      <td>20160429</td>\n",
       "    </tr>\n",
       "    <tr>\n",
       "      <th>1</th>\n",
       "      <td>0.786910</td>\n",
       "      <td>1.0</td>\n",
       "      <td>1.0</td>\n",
       "      <td>0.666667</td>\n",
       "      <td>0.30</td>\n",
       "      <td>0.037988</td>\n",
       "      <td>0.043496</td>\n",
       "      <td>0.214299</td>\n",
       "      <td>0.0</td>\n",
       "      <td>1.0</td>\n",
       "      <td>...</td>\n",
       "      <td>0.0</td>\n",
       "      <td>0.0</td>\n",
       "      <td>0.0</td>\n",
       "      <td>0.0</td>\n",
       "      <td>0.0</td>\n",
       "      <td>0.0</td>\n",
       "      <td>0</td>\n",
       "      <td>163606</td>\n",
       "      <td>5054</td>\n",
       "      <td>20160421</td>\n",
       "    </tr>\n",
       "    <tr>\n",
       "      <th>2</th>\n",
       "      <td>0.863014</td>\n",
       "      <td>0.2</td>\n",
       "      <td>1.0</td>\n",
       "      <td>0.666667</td>\n",
       "      <td>0.20</td>\n",
       "      <td>0.722209</td>\n",
       "      <td>0.898094</td>\n",
       "      <td>1.000000</td>\n",
       "      <td>0.0</td>\n",
       "      <td>1.0</td>\n",
       "      <td>...</td>\n",
       "      <td>0.0</td>\n",
       "      <td>0.0</td>\n",
       "      <td>0.0</td>\n",
       "      <td>0.0</td>\n",
       "      <td>0.0</td>\n",
       "      <td>0.0</td>\n",
       "      <td>0</td>\n",
       "      <td>94107</td>\n",
       "      <td>7610</td>\n",
       "      <td>20160412</td>\n",
       "    </tr>\n",
       "    <tr>\n",
       "      <th>3</th>\n",
       "      <td>0.863014</td>\n",
       "      <td>1.0</td>\n",
       "      <td>1.0</td>\n",
       "      <td>0.666667</td>\n",
       "      <td>0.20</td>\n",
       "      <td>0.722209</td>\n",
       "      <td>0.898094</td>\n",
       "      <td>1.000000</td>\n",
       "      <td>0.0</td>\n",
       "      <td>1.0</td>\n",
       "      <td>...</td>\n",
       "      <td>0.0</td>\n",
       "      <td>0.0</td>\n",
       "      <td>0.0</td>\n",
       "      <td>0.0</td>\n",
       "      <td>0.0</td>\n",
       "      <td>0.0</td>\n",
       "      <td>0</td>\n",
       "      <td>4061024</td>\n",
       "      <td>7610</td>\n",
       "      <td>20160426</td>\n",
       "    </tr>\n",
       "    <tr>\n",
       "      <th>4</th>\n",
       "      <td>0.761035</td>\n",
       "      <td>1.0</td>\n",
       "      <td>1.0</td>\n",
       "      <td>0.100000</td>\n",
       "      <td>0.05</td>\n",
       "      <td>0.302988</td>\n",
       "      <td>0.392295</td>\n",
       "      <td>0.209746</td>\n",
       "      <td>0.0</td>\n",
       "      <td>1.0</td>\n",
       "      <td>...</td>\n",
       "      <td>0.0</td>\n",
       "      <td>0.0</td>\n",
       "      <td>0.0</td>\n",
       "      <td>0.0</td>\n",
       "      <td>0.0</td>\n",
       "      <td>0.0</td>\n",
       "      <td>0</td>\n",
       "      <td>4061024</td>\n",
       "      <td>9871</td>\n",
       "      <td>20160409</td>\n",
       "    </tr>\n",
       "  </tbody>\n",
       "</table>\n",
       "<p>5 rows × 49 columns</p>\n",
       "</div>"
      ],
      "text/plain": [
       "   discount_rate  distance  if_fd  full_value  reduction_value  total_sales  \\\n",
       "0       0.863014       0.0    1.0    0.666667             0.20     0.722209   \n",
       "1       0.786910       1.0    1.0    0.666667             0.30     0.037988   \n",
       "2       0.863014       0.2    1.0    0.666667             0.20     0.722209   \n",
       "3       0.863014       1.0    1.0    0.666667             0.20     0.722209   \n",
       "4       0.761035       1.0    1.0    0.100000             0.05     0.302988   \n",
       "\n",
       "   sales_use_coupon  total_coupon  merchant_distance_min  \\\n",
       "0          0.898094      1.000000                    0.0   \n",
       "1          0.043496      0.214299                    0.0   \n",
       "2          0.898094      1.000000                    0.0   \n",
       "3          0.898094      1.000000                    0.0   \n",
       "4          0.392295      0.209746                    0.0   \n",
       "\n",
       "   merchant_distance_max  ...  this_month_user_receive_same_coupon_lastone  \\\n",
       "0                    1.0  ...                                          0.0   \n",
       "1                    1.0  ...                                          0.0   \n",
       "2                    1.0  ...                                          0.0   \n",
       "3                    1.0  ...                                          0.0   \n",
       "4                    1.0  ...                                          0.0   \n",
       "\n",
       "   this_month_user_receive_same_coupon_firstone  \\\n",
       "0                                           0.0   \n",
       "1                                           0.0   \n",
       "2                                           0.0   \n",
       "3                                           0.0   \n",
       "4                                           0.0   \n",
       "\n",
       "   this_day_receive_all_coupon_count  this_day_user_receive_same_coupon_count  \\\n",
       "0                                0.0                                      0.0   \n",
       "1                                0.0                                      0.0   \n",
       "2                                0.0                                      0.0   \n",
       "3                                0.0                                      0.0   \n",
       "4                                0.0                                      0.0   \n",
       "\n",
       "   day_gap_before  day_gap_after  label  user_id  coupon_id  date_received  \n",
       "0             0.0            0.0      0  1832624       7610       20160429  \n",
       "1             0.0            0.0      0   163606       5054       20160421  \n",
       "2             0.0            0.0      0    94107       7610       20160412  \n",
       "3             0.0            0.0      0  4061024       7610       20160426  \n",
       "4             0.0            0.0      0  4061024       9871       20160409  \n",
       "\n",
       "[5 rows x 49 columns]"
      ]
     },
     "execution_count": 23,
     "metadata": {},
     "output_type": "execute_result"
    }
   ],
   "source": [
    "train_f3.head()"
   ]
  },
  {
   "cell_type": "markdown",
   "metadata": {},
   "source": [
    "### 3.3.2 对比分析"
   ]
  },
  {
   "cell_type": "code",
   "execution_count": 24,
   "metadata": {},
   "outputs": [
    {
     "name": "stdout",
     "output_type": "stream",
     "text": [
      "特征 f1 逻辑回归成绩\n",
      "LR 总体 AUC: 0.6722908622853694\n",
      "LR Coupon AUC: 0.5381247617281083\n",
      "特征 sf2 逻辑回归成绩\n",
      "LR 总体 AUC: 0.7589902297449305\n",
      "LR Coupon AUC: 0.6019792722961924\n",
      "特征 sf3 逻辑回归成绩\n",
      "LR 总体 AUC: 0.8094540485011451\n",
      "LR Coupon AUC: 0.7279054511711345\n"
     ]
    }
   ],
   "source": [
    "print('特征 f1 逻辑回归成绩')\n",
    "test_model(train_f1, 'LR')\n",
    "print('特征 sf2 逻辑回归成绩')\n",
    "test_model(train_f2, 'LR')\n",
    "print('特征 sf3 逻辑回归成绩')\n",
    "test_model(train_f3, 'LR')"
   ]
  },
  {
   "cell_type": "code",
   "execution_count": 25,
   "metadata": {},
   "outputs": [
    {
     "name": "stdout",
     "output_type": "stream",
     "text": [
      "特征 f1 朴素贝叶斯成绩\n",
      "NB 总体 AUC: 0.6670944091690476\n",
      "NB Coupon AUC: 0.5381247642711647\n",
      "特征 sf2 朴素贝叶斯成绩\n",
      "NB 总体 AUC: 0.7342418749946003\n",
      "NB Coupon AUC: 0.6061122104908827\n",
      "特征 sf3 朴素贝叶斯成绩\n",
      "NB 总体 AUC: 0.7812536833968516\n",
      "NB Coupon AUC: 0.7119101385059943\n"
     ]
    }
   ],
   "source": [
    "print('特征 f1 朴素贝叶斯成绩')\n",
    "test_model(train_f1, 'NB')\n",
    "print('特征 sf2 朴素贝叶斯成绩')\n",
    "test_model(train_f2, 'NB')\n",
    "print('特征 sf3 朴素贝叶斯成绩')\n",
    "test_model(train_f3, 'NB')"
   ]
  },
  {
   "cell_type": "code",
   "execution_count": 26,
   "metadata": {
    "scrolled": true
   },
   "outputs": [
    {
     "name": "stdout",
     "output_type": "stream",
     "text": [
      "特征 f1 决策树成绩\n",
      "DT 总体 AUC: 0.6481609737147687\n",
      "DT Coupon AUC: 0.5302514392404754\n",
      "特征 sf2 决策树成绩\n",
      "DT 总体 AUC: 0.5281376542832549\n",
      "DT Coupon AUC: 0.520858711719914\n",
      "特征 sf3 决策树成绩\n",
      "DT 总体 AUC: 0.5767690898297233\n",
      "DT Coupon AUC: 0.5708296039704306\n"
     ]
    }
   ],
   "source": [
    "print('特征 f1 决策树成绩')\n",
    "test_model(train_f1, 'DT')\n",
    "print('特征 sf2 决策树成绩')\n",
    "test_model(train_f2, 'DT')\n",
    "print('特征 sf3 决策树成绩')\n",
    "test_model(train_f3, 'DT')"
   ]
  },
  {
   "cell_type": "code",
   "execution_count": 27,
   "metadata": {},
   "outputs": [
    {
     "name": "stdout",
     "output_type": "stream",
     "text": [
      "特征 f1 随机森林成绩\n",
      "RF 总体 AUC: 0.6480961064277656\n",
      "RF Coupon AUC: 0.5300012911646785\n",
      "特征 sf2 随机森林成绩\n",
      "RF 总体 AUC: 0.6870490590676528\n",
      "RF Coupon AUC: 0.5656603365083702\n",
      "特征 sf3 随机森林成绩\n",
      "RF 总体 AUC: 0.7724926604958502\n",
      "RF Coupon AUC: 0.707791020155774\n"
     ]
    }
   ],
   "source": [
    "print('特征 f1 随机森林成绩')\n",
    "test_model(train_f1, 'RF')\n",
    "print('特征 sf2 随机森林成绩')\n",
    "test_model(train_f2, 'RF')\n",
    "print('特征 sf3 随机森林成绩')\n",
    "test_model(train_f3, 'RF')"
   ]
  },
  {
   "cell_type": "code",
   "execution_count": 28,
   "metadata": {},
   "outputs": [
    {
     "name": "stdout",
     "output_type": "stream",
     "text": [
      "特征 f1 LightGBM 成绩\n",
      "[LightGBM] [Info] Number of positive: 4748, number of negative: 42635\n",
      "[LightGBM] [Info] Auto-choosing row-wise multi-threading, the overhead of testing was 0.000215 seconds.\n",
      "You can set `force_row_wise=true` to remove the overhead.\n",
      "And if memory is not enough, you can set `force_col_wise=true`.\n",
      "[LightGBM] [Info] Total Bins 47\n",
      "[LightGBM] [Info] Number of data points in the train set: 47383, number of used features: 5\n",
      "[LightGBM] [Info] [binary:BoostFromScore]: pavg=0.100205 -> initscore=-2.194952\n",
      "[LightGBM] [Info] Start training from score -2.194952\n",
      "LGB 总体 AUC: 0.6534077718076291\n",
      "LGB Coupon AUC: 0.5327884933599097\n",
      "特征 sf2 LightGBM 成绩\n",
      "[LightGBM] [Info] Number of positive: 10347, number of negative: 170693\n",
      "[LightGBM] [Info] Auto-choosing row-wise multi-threading, the overhead of testing was 0.007820 seconds.\n",
      "You can set `force_row_wise=true` to remove the overhead.\n",
      "And if memory is not enough, you can set `force_col_wise=true`.\n",
      "[LightGBM] [Info] Total Bins 2455\n",
      "[LightGBM] [Info] Number of data points in the train set: 181040, number of used features: 37\n",
      "[LightGBM] [Info] [binary:BoostFromScore]: pavg=0.057153 -> initscore=-2.803170\n",
      "[LightGBM] [Info] Start training from score -2.803170\n",
      "LGB 总体 AUC: 0.7741029767659218\n",
      "LGB Coupon AUC: 0.5984526360012944\n",
      "特征 sf3 LightGBM 成绩\n",
      "[LightGBM] [Info] Number of positive: 10347, number of negative: 170693\n",
      "[LightGBM] [Info] Auto-choosing row-wise multi-threading, the overhead of testing was 0.010192 seconds.\n",
      "You can set `force_row_wise=true` to remove the overhead.\n",
      "And if memory is not enough, you can set `force_col_wise=true`.\n",
      "[LightGBM] [Info] Total Bins 2615\n",
      "[LightGBM] [Info] Number of data points in the train set: 181040, number of used features: 45\n",
      "[LightGBM] [Info] [binary:BoostFromScore]: pavg=0.057153 -> initscore=-2.803170\n",
      "[LightGBM] [Info] Start training from score -2.803170\n",
      "LGB 总体 AUC: 0.8284887876924993\n",
      "LGB Coupon AUC: 0.7374344321731373\n"
     ]
    }
   ],
   "source": [
    "print('特征 f1 LightGBM 成绩')\n",
    "test_model(train_f1, 'LGB')\n",
    "print('特征 sf2 LightGBM 成绩')\n",
    "test_model(train_f2, 'LGB')\n",
    "print('特征 sf3 LightGBM 成绩')\n",
    "test_model(train_f3, 'LGB')"
   ]
  },
  {
   "cell_type": "code",
   "execution_count": 29,
   "metadata": {},
   "outputs": [
    {
     "name": "stdout",
     "output_type": "stream",
     "text": [
      "特征 f1 XGBoost 成绩\n",
      "XGB 总体 AUC: 0.653536917078787\n",
      "XGB Coupon AUC: 0.5312927198383608\n",
      "特征 sf2 XGBoost 成绩\n",
      "XGB 总体 AUC: 0.7276705941304202\n",
      "XGB Coupon AUC: 0.5847156630995386\n",
      "特征 sf3 XGBoost 成绩\n",
      "XGB 总体 AUC: 0.8048806887790168\n",
      "XGB Coupon AUC: 0.7277223130300415\n"
     ]
    }
   ],
   "source": [
    "print('特征 f1 XGBoost 成绩')\n",
    "test_model(train_f1, 'XGB')\n",
    "print('特征 sf2 XGBoost 成绩')\n",
    "test_model(train_f2, 'XGB')\n",
    "print('特征 sf3 XGBoost 成绩')\n",
    "test_model(train_f3, 'XGB')"
   ]
  },
  {
   "cell_type": "markdown",
   "metadata": {},
   "source": [
    "可以发现特征 f2 比特征 f1 的结果好很多，这是因为特征 2 使用滑窗方案，增加了很多统计特征。而特征 3 比特征又有了很大的提高，这是因为特征 3 增加了穿越特征。\n",
    "\n",
    "对比 LightGBM 和 LR 的成绩可以发现对于本问题，LightGBM 有着更好的成绩。\n",
    "\n",
    "### 3.3.3 结果输出\n",
    "\n",
    "通过分析发现特征 sf3 版本通过 LightGBM 分析的结果不错。下一步要做的事就是输出结果。"
   ]
  },
  {
   "cell_type": "code",
   "execution_count": 30,
   "metadata": {},
   "outputs": [
    {
     "data": {
      "text/html": [
       "<div>\n",
       "<style scoped>\n",
       "    .dataframe tbody tr th:only-of-type {\n",
       "        vertical-align: middle;\n",
       "    }\n",
       "\n",
       "    .dataframe tbody tr th {\n",
       "        vertical-align: top;\n",
       "    }\n",
       "\n",
       "    .dataframe thead th {\n",
       "        text-align: right;\n",
       "    }\n",
       "</style>\n",
       "<table border=\"1\" class=\"dataframe\">\n",
       "  <thead>\n",
       "    <tr style=\"text-align: right;\">\n",
       "      <th></th>\n",
       "      <th>discount_rate</th>\n",
       "      <th>distance</th>\n",
       "      <th>if_fd</th>\n",
       "      <th>full_value</th>\n",
       "      <th>reduction_value</th>\n",
       "      <th>total_sales</th>\n",
       "      <th>sales_use_coupon</th>\n",
       "      <th>total_coupon</th>\n",
       "      <th>merchant_distance_min</th>\n",
       "      <th>merchant_distance_max</th>\n",
       "      <th>...</th>\n",
       "      <th>this_month_user_receive_same_coupon_lastone</th>\n",
       "      <th>this_month_user_receive_same_coupon_firstone</th>\n",
       "      <th>this_day_receive_all_coupon_count</th>\n",
       "      <th>this_day_user_receive_same_coupon_count</th>\n",
       "      <th>day_gap_before</th>\n",
       "      <th>day_gap_after</th>\n",
       "      <th>label</th>\n",
       "      <th>user_id</th>\n",
       "      <th>coupon_id</th>\n",
       "      <th>date_received</th>\n",
       "    </tr>\n",
       "  </thead>\n",
       "  <tbody>\n",
       "    <tr>\n",
       "      <th>0</th>\n",
       "      <td>0.863014</td>\n",
       "      <td>0.0</td>\n",
       "      <td>1.0</td>\n",
       "      <td>0.666667</td>\n",
       "      <td>0.20</td>\n",
       "      <td>0.722209</td>\n",
       "      <td>0.898094</td>\n",
       "      <td>1.000000</td>\n",
       "      <td>0.0</td>\n",
       "      <td>1.0</td>\n",
       "      <td>...</td>\n",
       "      <td>0.0</td>\n",
       "      <td>0.0</td>\n",
       "      <td>0.0</td>\n",
       "      <td>0.0</td>\n",
       "      <td>0.0</td>\n",
       "      <td>0.0</td>\n",
       "      <td>0</td>\n",
       "      <td>1832624</td>\n",
       "      <td>7610</td>\n",
       "      <td>20160429</td>\n",
       "    </tr>\n",
       "    <tr>\n",
       "      <th>1</th>\n",
       "      <td>0.786910</td>\n",
       "      <td>1.0</td>\n",
       "      <td>1.0</td>\n",
       "      <td>0.666667</td>\n",
       "      <td>0.30</td>\n",
       "      <td>0.037988</td>\n",
       "      <td>0.043496</td>\n",
       "      <td>0.214299</td>\n",
       "      <td>0.0</td>\n",
       "      <td>1.0</td>\n",
       "      <td>...</td>\n",
       "      <td>0.0</td>\n",
       "      <td>0.0</td>\n",
       "      <td>0.0</td>\n",
       "      <td>0.0</td>\n",
       "      <td>0.0</td>\n",
       "      <td>0.0</td>\n",
       "      <td>0</td>\n",
       "      <td>163606</td>\n",
       "      <td>5054</td>\n",
       "      <td>20160421</td>\n",
       "    </tr>\n",
       "    <tr>\n",
       "      <th>2</th>\n",
       "      <td>0.863014</td>\n",
       "      <td>0.2</td>\n",
       "      <td>1.0</td>\n",
       "      <td>0.666667</td>\n",
       "      <td>0.20</td>\n",
       "      <td>0.722209</td>\n",
       "      <td>0.898094</td>\n",
       "      <td>1.000000</td>\n",
       "      <td>0.0</td>\n",
       "      <td>1.0</td>\n",
       "      <td>...</td>\n",
       "      <td>0.0</td>\n",
       "      <td>0.0</td>\n",
       "      <td>0.0</td>\n",
       "      <td>0.0</td>\n",
       "      <td>0.0</td>\n",
       "      <td>0.0</td>\n",
       "      <td>0</td>\n",
       "      <td>94107</td>\n",
       "      <td>7610</td>\n",
       "      <td>20160412</td>\n",
       "    </tr>\n",
       "    <tr>\n",
       "      <th>3</th>\n",
       "      <td>0.863014</td>\n",
       "      <td>1.0</td>\n",
       "      <td>1.0</td>\n",
       "      <td>0.666667</td>\n",
       "      <td>0.20</td>\n",
       "      <td>0.722209</td>\n",
       "      <td>0.898094</td>\n",
       "      <td>1.000000</td>\n",
       "      <td>0.0</td>\n",
       "      <td>1.0</td>\n",
       "      <td>...</td>\n",
       "      <td>0.0</td>\n",
       "      <td>0.0</td>\n",
       "      <td>0.0</td>\n",
       "      <td>0.0</td>\n",
       "      <td>0.0</td>\n",
       "      <td>0.0</td>\n",
       "      <td>0</td>\n",
       "      <td>4061024</td>\n",
       "      <td>7610</td>\n",
       "      <td>20160426</td>\n",
       "    </tr>\n",
       "    <tr>\n",
       "      <th>4</th>\n",
       "      <td>0.761035</td>\n",
       "      <td>1.0</td>\n",
       "      <td>1.0</td>\n",
       "      <td>0.100000</td>\n",
       "      <td>0.05</td>\n",
       "      <td>0.302988</td>\n",
       "      <td>0.392295</td>\n",
       "      <td>0.209746</td>\n",
       "      <td>0.0</td>\n",
       "      <td>1.0</td>\n",
       "      <td>...</td>\n",
       "      <td>0.0</td>\n",
       "      <td>0.0</td>\n",
       "      <td>0.0</td>\n",
       "      <td>0.0</td>\n",
       "      <td>0.0</td>\n",
       "      <td>0.0</td>\n",
       "      <td>0</td>\n",
       "      <td>4061024</td>\n",
       "      <td>9871</td>\n",
       "      <td>20160409</td>\n",
       "    </tr>\n",
       "  </tbody>\n",
       "</table>\n",
       "<p>5 rows × 49 columns</p>\n",
       "</div>"
      ],
      "text/plain": [
       "   discount_rate  distance  if_fd  full_value  reduction_value  total_sales  \\\n",
       "0       0.863014       0.0    1.0    0.666667             0.20     0.722209   \n",
       "1       0.786910       1.0    1.0    0.666667             0.30     0.037988   \n",
       "2       0.863014       0.2    1.0    0.666667             0.20     0.722209   \n",
       "3       0.863014       1.0    1.0    0.666667             0.20     0.722209   \n",
       "4       0.761035       1.0    1.0    0.100000             0.05     0.302988   \n",
       "\n",
       "   sales_use_coupon  total_coupon  merchant_distance_min  \\\n",
       "0          0.898094      1.000000                    0.0   \n",
       "1          0.043496      0.214299                    0.0   \n",
       "2          0.898094      1.000000                    0.0   \n",
       "3          0.898094      1.000000                    0.0   \n",
       "4          0.392295      0.209746                    0.0   \n",
       "\n",
       "   merchant_distance_max  ...  this_month_user_receive_same_coupon_lastone  \\\n",
       "0                    1.0  ...                                          0.0   \n",
       "1                    1.0  ...                                          0.0   \n",
       "2                    1.0  ...                                          0.0   \n",
       "3                    1.0  ...                                          0.0   \n",
       "4                    1.0  ...                                          0.0   \n",
       "\n",
       "   this_month_user_receive_same_coupon_firstone  \\\n",
       "0                                           0.0   \n",
       "1                                           0.0   \n",
       "2                                           0.0   \n",
       "3                                           0.0   \n",
       "4                                           0.0   \n",
       "\n",
       "   this_day_receive_all_coupon_count  this_day_user_receive_same_coupon_count  \\\n",
       "0                                0.0                                      0.0   \n",
       "1                                0.0                                      0.0   \n",
       "2                                0.0                                      0.0   \n",
       "3                                0.0                                      0.0   \n",
       "4                                0.0                                      0.0   \n",
       "\n",
       "   day_gap_before  day_gap_after  label  user_id  coupon_id  date_received  \n",
       "0             0.0            0.0      0  1832624       7610       20160429  \n",
       "1             0.0            0.0      0   163606       5054       20160421  \n",
       "2             0.0            0.0      0    94107       7610       20160412  \n",
       "3             0.0            0.0      0  4061024       7610       20160426  \n",
       "4             0.0            0.0      0  4061024       9871       20160409  \n",
       "\n",
       "[5 rows x 49 columns]"
      ]
     },
     "execution_count": 30,
     "metadata": {},
     "output_type": "execute_result"
    }
   ],
   "source": [
    "train_f3.head()"
   ]
  },
  {
   "cell_type": "code",
   "execution_count": 31,
   "metadata": {
    "collapsed": true
   },
   "outputs": [],
   "source": [
    "# 预测函数\n",
    "def classifier_df_simple(train_feat, test_feat, classifier):\n",
    "    model = get_sklearn_model(classifier)\n",
    "    model.fit(get_predictors_df(train_feat), get_target_df(train_feat))\n",
    "    predicted = pd.DataFrame(model.predict_proba(get_predictors_df(test_feat))[:, 1])\n",
    "    return predicted\n",
    "\n",
    "\n",
    "# 输出结果函数\n",
    "def output_predicted(predicted, test_feat):\n",
    "    predicted = round(predicted, 3)\n",
    "    resultdf = get_id_df(test_feat).copy()\n",
    "    resultdf['Probability'] = predicted\n",
    "    return resultdf"
   ]
  },
  {
   "cell_type": "code",
   "execution_count": 32,
   "metadata": {
    "collapsed": true
   },
   "outputs": [
    {
     "name": "stdout",
     "output_type": "stream",
     "text": [
      "[LightGBM] [Info] Number of positive: 33477, number of negative: 404689\n",
      "[LightGBM] [Info] Auto-choosing row-wise multi-threading, the overhead of testing was 0.024302 seconds.\n",
      "You can set `force_row_wise=true` to remove the overhead.\n",
      "And if memory is not enough, you can set `force_col_wise=true`.\n",
      "[LightGBM] [Info] Total Bins 3147\n",
      "[LightGBM] [Info] Number of data points in the train set: 438166, number of used features: 45\n",
      "[LightGBM] [Info] [binary:BoostFromScore]: pavg=0.076403 -> initscore=-2.492260\n",
      "[LightGBM] [Info] Start training from score -2.492260\n"
     ]
    }
   ],
   "source": [
    "predicted = classifier_df_simple(train_f3, test_f3, 'LGB')"
   ]
  },
  {
   "cell_type": "code",
   "execution_count": 33,
   "metadata": {},
   "outputs": [
    {
     "data": {
      "text/html": [
       "<div>\n",
       "<style scoped>\n",
       "    .dataframe tbody tr th:only-of-type {\n",
       "        vertical-align: middle;\n",
       "    }\n",
       "\n",
       "    .dataframe tbody tr th {\n",
       "        vertical-align: top;\n",
       "    }\n",
       "\n",
       "    .dataframe thead th {\n",
       "        text-align: right;\n",
       "    }\n",
       "</style>\n",
       "<table border=\"1\" class=\"dataframe\">\n",
       "  <thead>\n",
       "    <tr style=\"text-align: right;\">\n",
       "      <th></th>\n",
       "      <th>0</th>\n",
       "    </tr>\n",
       "  </thead>\n",
       "  <tbody>\n",
       "    <tr>\n",
       "      <th>0</th>\n",
       "      <td>0.007423</td>\n",
       "    </tr>\n",
       "    <tr>\n",
       "      <th>1</th>\n",
       "      <td>0.132002</td>\n",
       "    </tr>\n",
       "    <tr>\n",
       "      <th>2</th>\n",
       "      <td>0.006900</td>\n",
       "    </tr>\n",
       "    <tr>\n",
       "      <th>3</th>\n",
       "      <td>0.012854</td>\n",
       "    </tr>\n",
       "    <tr>\n",
       "      <th>4</th>\n",
       "      <td>0.035856</td>\n",
       "    </tr>\n",
       "  </tbody>\n",
       "</table>\n",
       "</div>"
      ],
      "text/plain": [
       "          0\n",
       "0  0.007423\n",
       "1  0.132002\n",
       "2  0.006900\n",
       "3  0.012854\n",
       "4  0.035856"
      ]
     },
     "execution_count": 33,
     "metadata": {},
     "output_type": "execute_result"
    }
   ],
   "source": [
    "predicted.head()"
   ]
  },
  {
   "cell_type": "code",
   "execution_count": 34,
   "metadata": {
    "collapsed": true
   },
   "outputs": [
    {
     "data": {
      "text/html": [
       "<div>\n",
       "<style scoped>\n",
       "    .dataframe tbody tr th:only-of-type {\n",
       "        vertical-align: middle;\n",
       "    }\n",
       "\n",
       "    .dataframe tbody tr th {\n",
       "        vertical-align: top;\n",
       "    }\n",
       "\n",
       "    .dataframe thead th {\n",
       "        text-align: right;\n",
       "    }\n",
       "</style>\n",
       "<table border=\"1\" class=\"dataframe\">\n",
       "  <thead>\n",
       "    <tr style=\"text-align: right;\">\n",
       "      <th></th>\n",
       "      <th>user_id</th>\n",
       "      <th>coupon_id</th>\n",
       "      <th>date_received</th>\n",
       "      <th>Probability</th>\n",
       "    </tr>\n",
       "  </thead>\n",
       "  <tbody>\n",
       "    <tr>\n",
       "      <th>0</th>\n",
       "      <td>4129537</td>\n",
       "      <td>9983</td>\n",
       "      <td>20160712</td>\n",
       "      <td>0.007</td>\n",
       "    </tr>\n",
       "    <tr>\n",
       "      <th>1</th>\n",
       "      <td>6949378</td>\n",
       "      <td>3429</td>\n",
       "      <td>20160706</td>\n",
       "      <td>0.132</td>\n",
       "    </tr>\n",
       "    <tr>\n",
       "      <th>2</th>\n",
       "      <td>2166529</td>\n",
       "      <td>6928</td>\n",
       "      <td>20160727</td>\n",
       "      <td>0.007</td>\n",
       "    </tr>\n",
       "    <tr>\n",
       "      <th>3</th>\n",
       "      <td>2166529</td>\n",
       "      <td>1808</td>\n",
       "      <td>20160727</td>\n",
       "      <td>0.013</td>\n",
       "    </tr>\n",
       "    <tr>\n",
       "      <th>4</th>\n",
       "      <td>6172162</td>\n",
       "      <td>6500</td>\n",
       "      <td>20160708</td>\n",
       "      <td>0.036</td>\n",
       "    </tr>\n",
       "  </tbody>\n",
       "</table>\n",
       "</div>"
      ],
      "text/plain": [
       "   user_id  coupon_id  date_received  Probability\n",
       "0  4129537       9983       20160712        0.007\n",
       "1  6949378       3429       20160706        0.132\n",
       "2  2166529       6928       20160727        0.007\n",
       "3  2166529       1808       20160727        0.013\n",
       "4  6172162       6500       20160708        0.036"
      ]
     },
     "execution_count": 34,
     "metadata": {},
     "output_type": "execute_result"
    }
   ],
   "source": [
    "# 生成结果数据\n",
    "result = output_predicted(predicted, test_f3)\n",
    "result.head()"
   ]
  },
  {
   "cell_type": "code",
   "execution_count": 35,
   "metadata": {
    "collapsed": true
   },
   "outputs": [],
   "source": [
    "# 输出结果\n",
    "result.to_csv('sf3_lgb.csv', header=False, index=False, sep=',')"
   ]
  },
  {
   "cell_type": "markdown",
   "metadata": {},
   "source": [
    "在代码目录下生成了文件 sf3_lgb.csv。"
   ]
  }
 ],
 "metadata": {
  "kernelspec": {
   "display_name": "Python 3",
   "language": "python",
   "name": "python3"
  },
  "language_info": {
   "codemirror_mode": {
    "name": "ipython",
    "version": 3
   },
   "file_extension": ".py",
   "mimetype": "text/x-python",
   "name": "python",
   "nbconvert_exporter": "python",
   "pygments_lexer": "ipython3",
   "version": "3.10.14"
  },
  "toc": {
   "base_numbering": 1,
   "nav_menu": {},
   "number_sections": true,
   "sideBar": true,
   "skip_h1_title": false,
   "title_cell": "04 模型训练",
   "title_sidebar": "Contents",
   "toc_cell": true,
   "toc_position": {},
   "toc_section_display": true,
   "toc_window_display": true
  }
 },
 "nbformat": 4,
 "nbformat_minor": 2
}
